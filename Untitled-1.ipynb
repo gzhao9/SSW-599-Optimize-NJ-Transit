{
 "cells": [
  {
   "cell_type": "code",
   "execution_count": 8,
   "metadata": {},
   "outputs": [],
   "source": [
    "import random\n",
    "import math\n",
    " "
   ]
  },
  {
   "cell_type": "code",
   "execution_count": 9,
   "metadata": {},
   "outputs": [],
   "source": [
    "def charge(distance:float,add_fee=0.20):\n",
    "    if distance<=2.5:\n",
    "        return 2.5\n",
    "    else:\n",
    "        ad=int(math.ceil(5*(distance-2.5)))\n",
    "        charge=round(ad*add_fee+2.5,2)\n",
    "        return charge"
   ]
  },
  {
   "cell_type": "code",
   "execution_count": 10,
   "metadata": {},
   "outputs": [],
   "source": [
    "#lines record the distance of each stations from the beging station.\n",
    "def creat_line(stations:int):\n",
    "    lines=[0]*stations\n",
    "    lines[0]=0\n",
    "    for i in range(1,len(lines)):\n",
    "        ad=round(random.uniform(0.3,1.5),2)\n",
    "        lines[i]=round(lines[i-1]+ad,2)\n",
    "    return lines"
   ]
  },
  {
   "cell_type": "code",
   "execution_count": 11,
   "metadata": {},
   "outputs": [],
   "source": [
    "def get_distance(line:list,begin:int,ends:int):\n",
    "    try:\n",
    "        if line[ends]-line[begin]>0:\n",
    "            return round(line[ends]-line[begin],2)\n",
    "        else:\n",
    "            return round(line[-1],2)\n",
    "    except:\n",
    "        return  round(line[-1],2)"
   ]
  },
  {
   "cell_type": "code",
   "execution_count": 12,
   "metadata": {},
   "outputs": [],
   "source": [
    "#trips is a list for each trip. it record as the [line name, begin station, end station]\n",
    "def get_trips_charge(trips:list):\n",
    "    charges=0\n",
    "    l_distance=0\n",
    "    detials=list()\n",
    "    if len(trips)>=0:\n",
    "        for line_name, begin_station, end_station in trips:               \n",
    "            new_distance=get_distance(lines[line_name], begin_station, end_station)\n",
    "            single_char=round(charge(l_distance+new_distance)-charges,2)\n",
    "            detials.append([new_distance,single_char])\n",
    "            charges=charge(l_distance+new_distance)\n",
    "            l_distance=round(l_distance+new_distance,2)\n",
    "    print(f\"total distance:{l_distance}\\ntotal chatges:{charges}\\nDetials:\")\n",
    "    for i in range(len(trips)):\n",
    "        print(f\"form:{trips[i][0]}{trips[i][1]} to {trips[i][0]}{trips[i][2]},distance:{detials[i][0]},charge:{detials[i][1]}\")\n",
    "    return detials,l_distance,charges\n"
   ]
  },
  {
   "cell_type": "code",
   "execution_count": 15,
   "metadata": {},
   "outputs": [
    {
     "data": {
      "text/plain": [
       "{'a': [0, 0.39, 1.65, 2.01, 3.3, 4.6, 6.02, 7.18, 7.74, 8.41],\n",
       " 'b': [0, 1.36, 2.69, 4.15, 4.87, 5.76, 6.59, 7.66, 8.09, 8.97, 9.39],\n",
       " 'c': [0, 1.09, 1.56, 2.17, 3.56, 4.25, 5.07, 5.58],\n",
       " 'd': [0, 1.22, 2.6, 3.55, 5.03, 5.65],\n",
       " 'e': [0, 1.4, 1.75, 3.06, 3.9, 4.77, 5.68]}"
      ]
     },
     "execution_count": 15,
     "metadata": {},
     "output_type": "execute_result"
    }
   ],
   "source": [
    "lines=dict()\n",
    "lines['a']=creat_line(10)\n",
    "\n",
    "lines['b']=creat_line(11)\n",
    "\n",
    "lines['c']=creat_line(8)\n",
    "\n",
    "\n",
    "lines['d']=creat_line(6)\n",
    "\n",
    "lines['e']=creat_line(7)\n",
    "lines"
   ]
  },
  {
   "cell_type": "code",
   "execution_count": 16,
   "metadata": {},
   "outputs": [
    {
     "name": "stdout",
     "output_type": "stream",
     "text": [
      "total distance:7.55\n",
      "total chatges:7.7\n",
      "Detials:\n",
      "form:a1 to a2,distance:1.26,charge:2.5\n",
      "form:b0 to b1,distance:1.36,charge:0.2\n",
      "form:c5 to c6,distance:0.82,charge:0.8\n",
      "form:d1 to d3,distance:2.33,charge:2.4\n",
      "form:e4 to e6,distance:1.78,charge:1.8\n"
     ]
    },
    {
     "data": {
      "text/plain": [
       "([[1.26, 2.5], [1.36, 0.2], [0.82, 0.8], [2.33, 2.4], [1.78, 1.8]], 7.55, 7.7)"
      ]
     },
     "execution_count": 16,
     "metadata": {},
     "output_type": "execute_result"
    }
   ],
   "source": [
    "trip=[['a',1,2],['b',0,1],['c',5,6],['d',1,3],['e',4,6]]\n",
    "get_trips_charge(trip)"
   ]
  }
 ],
 "metadata": {
  "interpreter": {
   "hash": "f9b083482f9be28ca5c8bd50ddde7ed63af9a3123095d8d626f8a896ff08ba2d"
  },
  "kernelspec": {
   "display_name": "Python 3.8.8 64-bit ('base': conda)",
   "language": "python",
   "name": "python3"
  },
  "language_info": {
   "codemirror_mode": {
    "name": "ipython",
    "version": 3
   },
   "file_extension": ".py",
   "mimetype": "text/x-python",
   "name": "python",
   "nbconvert_exporter": "python",
   "pygments_lexer": "ipython3",
   "version": "3.8.8"
  },
  "orig_nbformat": 4
 },
 "nbformat": 4,
 "nbformat_minor": 2
}
